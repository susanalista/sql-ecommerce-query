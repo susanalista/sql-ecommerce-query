{
 "cells": [
  {
   "cell_type": "markdown",
   "metadata": {},
   "source": [
    "# SQL QUERIES"
   ]
  },
  {
   "cell_type": "markdown",
   "metadata": {},
   "source": [
    "We use SQL query to answer the following questions:\n",
    "\n",
    "-How many orders per day? \n",
    "\n",
    "-How much sales per day?\n",
    "\n",
    "-What is the top selling product?\n",
    "\n",
    "-What percentage of orders are with discount codes?\n",
    "\n",
    "-What percentage of orders include the product with SKU PM591?\n",
    "\n",
    "-Which hour of day do people buy most products?"
   ]
  },
  {
   "cell_type": "markdown",
   "metadata": {
    "toc": true
   },
   "source": [
    "<h1>Table of Contents<span class=\"tocSkip\"></span></h1>\n",
    "<div class=\"toc\"><ul class=\"toc-item\"><li><span><a href=\"#Orders/day\" data-toc-modified-id=\"Orders/day-1\">Orders/day</a></span></li><li><span><a href=\"#Sales/day\" data-toc-modified-id=\"Sales/day-2\">Sales/day</a></span></li><li><span><a href=\"#Top-selling-product\" data-toc-modified-id=\"Top-selling-product-3\">Top selling product</a></span></li><li><span><a href=\"#Percentage/orders-with-discount-codes\" data-toc-modified-id=\"Percentage/orders-with-discount-codes-4\">Percentage/orders with discount codes</a></span></li><li><span><a href=\"#Percentage/orders-with-reference-SKU-PM591\" data-toc-modified-id=\"Percentage/orders-with-reference-SKU-PM591-5\">Percentage/orders with reference SKU PM591</a></span></li><li><span><a href=\"#Hour-of-day-with-more-orders\" data-toc-modified-id=\"Hour-of-day-with-more-orders-6\">Hour of day with more orders</a></span></li></ul></div>"
   ]
  },
  {
   "cell_type": "code",
   "execution_count": 5,
   "metadata": {},
   "outputs": [],
   "source": [
    "import sqlite3"
   ]
  },
  {
   "cell_type": "code",
   "execution_count": 8,
   "metadata": {},
   "outputs": [],
   "source": [
    "%reload_ext sql"
   ]
  },
  {
   "cell_type": "code",
   "execution_count": 10,
   "metadata": {},
   "outputs": [],
   "source": [
    "%sql sqlite:////Users/serpina/ironhack/projects/product-sql-query/data-products.db"
   ]
  },
  {
   "cell_type": "markdown",
   "metadata": {},
   "source": [
    "## Orders/day"
   ]
  },
  {
   "cell_type": "code",
   "execution_count": 11,
   "metadata": {},
   "outputs": [
    {
     "name": "stdout",
     "output_type": "stream",
     "text": [
      " * sqlite:////Users/serpina/ironhack/projects/product-sql-query/data-products.db\n",
      "Done.\n"
     ]
    },
    {
     "data": {
      "text/html": [
       "<table>\n",
       "    <tr>\n",
       "        <th>Date</th>\n",
       "        <th>Num_orders</th>\n",
       "    </tr>\n",
       "    <tr>\n",
       "        <td>2020-11-16</td>\n",
       "        <td>8429</td>\n",
       "    </tr>\n",
       "    <tr>\n",
       "        <td>2020-11-11</td>\n",
       "        <td>5546</td>\n",
       "    </tr>\n",
       "    <tr>\n",
       "        <td>2020-11-12</td>\n",
       "        <td>2999</td>\n",
       "    </tr>\n",
       "    <tr>\n",
       "        <td>2020-11-15</td>\n",
       "        <td>2235</td>\n",
       "    </tr>\n",
       "    <tr>\n",
       "        <td>2020-11-14</td>\n",
       "        <td>2150</td>\n",
       "    </tr>\n",
       "    <tr>\n",
       "        <td>2020-11-13</td>\n",
       "        <td>1917</td>\n",
       "    </tr>\n",
       "    <tr>\n",
       "        <td>2020-11-17</td>\n",
       "        <td>1138</td>\n",
       "    </tr>\n",
       "</table>"
      ],
      "text/plain": [
       "[('2020-11-16', 8429),\n",
       " ('2020-11-11', 5546),\n",
       " ('2020-11-12', 2999),\n",
       " ('2020-11-15', 2235),\n",
       " ('2020-11-14', 2150),\n",
       " ('2020-11-13', 1917),\n",
       " ('2020-11-17', 1138)]"
      ]
     },
     "execution_count": 11,
     "metadata": {},
     "output_type": "execute_result"
    }
   ],
   "source": [
    "%%sql\n",
    "SELECT Date(created_at) AS Date, COUNT(order_number) AS Num_orders\n",
    "FROM orders\n",
    "GROUP BY date(created_at)\n",
    "ORDER BY Num_orders desc;"
   ]
  },
  {
   "cell_type": "markdown",
   "metadata": {},
   "source": [
    "## Sales/day"
   ]
  },
  {
   "cell_type": "code",
   "execution_count": 13,
   "metadata": {},
   "outputs": [
    {
     "name": "stdout",
     "output_type": "stream",
     "text": [
      " * sqlite:////Users/serpina/ironhack/projects/product-sql-query/data-products.db\n",
      "Done.\n"
     ]
    },
    {
     "data": {
      "text/html": [
       "<table>\n",
       "    <tr>\n",
       "        <th>Date</th>\n",
       "        <th>Totals</th>\n",
       "    </tr>\n",
       "    <tr>\n",
       "        <td>2020-11-16</td>\n",
       "        <td>502033</td>\n",
       "    </tr>\n",
       "    <tr>\n",
       "        <td>2020-11-11</td>\n",
       "        <td>308838</td>\n",
       "    </tr>\n",
       "    <tr>\n",
       "        <td>2020-11-12</td>\n",
       "        <td>161420</td>\n",
       "    </tr>\n",
       "    <tr>\n",
       "        <td>2020-11-15</td>\n",
       "        <td>127521</td>\n",
       "    </tr>\n",
       "    <tr>\n",
       "        <td>2020-11-14</td>\n",
       "        <td>125088</td>\n",
       "    </tr>\n",
       "    <tr>\n",
       "        <td>2020-11-13</td>\n",
       "        <td>111716</td>\n",
       "    </tr>\n",
       "    <tr>\n",
       "        <td>2020-11-17</td>\n",
       "        <td>63994</td>\n",
       "    </tr>\n",
       "</table>"
      ],
      "text/plain": [
       "[('2020-11-16', 502033),\n",
       " ('2020-11-11', 308838),\n",
       " ('2020-11-12', 161420),\n",
       " ('2020-11-15', 127521),\n",
       " ('2020-11-14', 125088),\n",
       " ('2020-11-13', 111716),\n",
       " ('2020-11-17', 63994)]"
      ]
     },
     "execution_count": 13,
     "metadata": {},
     "output_type": "execute_result"
    }
   ],
   "source": [
    "%%sql\n",
    "SELECT Date(created_at) AS Date, SUM(total_order_price) AS Totals\n",
    "FROM orders\n",
    "GROUP BY date(created_at)\n",
    "ORDER BY Totals desc;"
   ]
  },
  {
   "cell_type": "markdown",
   "metadata": {},
   "source": [
    "## Top selling product"
   ]
  },
  {
   "cell_type": "code",
   "execution_count": 15,
   "metadata": {
    "scrolled": true
   },
   "outputs": [
    {
     "name": "stdout",
     "output_type": "stream",
     "text": [
      " * sqlite:////Users/serpina/ironhack/projects/product-sql-query/data-products.db\n",
      "Done.\n"
     ]
    },
    {
     "data": {
      "text/html": [
       "<table>\n",
       "    <tr>\n",
       "        <th>Product</th>\n",
       "        <th>Total</th>\n",
       "    </tr>\n",
       "    <tr>\n",
       "        <td>LUBMONO1</td>\n",
       "        <td>8210</td>\n",
       "    </tr>\n",
       "</table>"
      ],
      "text/plain": [
       "[('LUBMONO1', 8210)]"
      ]
     },
     "execution_count": 15,
     "metadata": {},
     "output_type": "execute_result"
    }
   ],
   "source": [
    "%%sql\n",
    "SELECT sku AS Product, COUNT(*) AS Total\n",
    "FROM orders\n",
    "GROUP BY sku\n",
    "ORDER BY Total desc\n",
    "limit 1;"
   ]
  },
  {
   "cell_type": "markdown",
   "metadata": {},
   "source": [
    "## Percentage/orders with discount codes"
   ]
  },
  {
   "cell_type": "code",
   "execution_count": 17,
   "metadata": {},
   "outputs": [
    {
     "name": "stdout",
     "output_type": "stream",
     "text": [
      " * sqlite:////Users/serpina/ironhack/projects/product-sql-query/data-products.db\n",
      "Done.\n"
     ]
    },
    {
     "data": {
      "text/html": [
       "<table>\n",
       "    <tr>\n",
       "        <th>Percent_with_discount</th>\n",
       "    </tr>\n",
       "    <tr>\n",
       "        <td>36</td>\n",
       "    </tr>\n",
       "</table>"
      ],
      "text/plain": [
       "[(36,)]"
      ]
     },
     "execution_count": 17,
     "metadata": {},
     "output_type": "execute_result"
    }
   ],
   "source": [
    "%%sql\n",
    "SELECT 100* count(*)/(select count(*) FROM orders) AS Percent_with_discount\n",
    "FROM orders\n",
    "WHERE discount_code is not null;"
   ]
  },
  {
   "cell_type": "markdown",
   "metadata": {},
   "source": [
    "## Percentage/orders with reference SKU PM591"
   ]
  },
  {
   "cell_type": "code",
   "execution_count": 18,
   "metadata": {},
   "outputs": [
    {
     "name": "stdout",
     "output_type": "stream",
     "text": [
      " * sqlite:////Users/serpina/ironhack/projects/product-sql-query/data-products.db\n",
      "Done.\n"
     ]
    },
    {
     "data": {
      "text/html": [
       "<table>\n",
       "    <tr>\n",
       "        <th>Percent_PM591</th>\n",
       "    </tr>\n",
       "    <tr>\n",
       "        <td>6</td>\n",
       "    </tr>\n",
       "</table>"
      ],
      "text/plain": [
       "[(6,)]"
      ]
     },
     "execution_count": 18,
     "metadata": {},
     "output_type": "execute_result"
    }
   ],
   "source": [
    "%%sql\n",
    "SELECT 100* COUNT(*)/(SELECT COUNT(*) FROM orders) AS Percent_PM591\n",
    "FROM orders\n",
    "WHERE sku = 'PM591';"
   ]
  },
  {
   "cell_type": "markdown",
   "metadata": {},
   "source": [
    "## Hour of day with more orders"
   ]
  },
  {
   "cell_type": "code",
   "execution_count": 20,
   "metadata": {},
   "outputs": [
    {
     "name": "stdout",
     "output_type": "stream",
     "text": [
      " * sqlite:////Users/serpina/ironhack/projects/product-sql-query/data-products.db\n",
      "Done.\n"
     ]
    },
    {
     "data": {
      "text/html": [
       "<table>\n",
       "    <tr>\n",
       "        <th>hora</th>\n",
       "        <th>orders</th>\n",
       "    </tr>\n",
       "    <tr>\n",
       "        <td>22</td>\n",
       "        <td>2092</td>\n",
       "    </tr>\n",
       "</table>"
      ],
      "text/plain": [
       "[('22', 2092)]"
      ]
     },
     "execution_count": 20,
     "metadata": {},
     "output_type": "execute_result"
    }
   ],
   "source": [
    "%%sql\n",
    "SELECT strftime('%H', datetime(created_at)) hora, COUNT(*) orders\n",
    "from orders\n",
    "GROUP BY strftime('%H', datetime(created_at))\n",
    "ORDER BY orders desc\n",
    "limit 1;"
   ]
  }
 ],
 "metadata": {
  "kernelspec": {
   "display_name": "Python 3",
   "language": "python",
   "name": "python3"
  },
  "language_info": {
   "codemirror_mode": {
    "name": "ipython",
    "version": 3
   },
   "file_extension": ".py",
   "mimetype": "text/x-python",
   "name": "python",
   "nbconvert_exporter": "python",
   "pygments_lexer": "ipython3",
   "version": "3.8.6"
  },
  "toc": {
   "base_numbering": 1,
   "nav_menu": {},
   "number_sections": false,
   "sideBar": true,
   "skip_h1_title": true,
   "title_cell": "Table of Contents",
   "title_sidebar": "Contents",
   "toc_cell": true,
   "toc_position": {
    "height": "637.273px",
    "left": "570px",
    "top": "410.284px",
    "width": "291.094px"
   },
   "toc_section_display": true,
   "toc_window_display": true
  }
 },
 "nbformat": 4,
 "nbformat_minor": 4
}
